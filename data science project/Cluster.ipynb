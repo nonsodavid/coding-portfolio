{
 "cells": [
  {
   "cell_type": "code",
   "execution_count": 1,
   "metadata": {},
   "outputs": [
    {
     "name": "stdout",
     "output_type": "stream",
     "text": [
      "Running generalised graph colouring experiments with visualisations...\n",
      "\n",
      "=== Erdos-Renyi Graph ===\n",
      "Greedy: Modularity=-0.270, Silhouette=-0.008, Colours=4\n",
      "DSATUR: Modularity=-0.283, Silhouette=-0.021, Colours=4\n"
     ]
    },
    {
     "name": "stderr",
     "output_type": "stream",
     "text": [
      "/var/folders/t5/yks90q315p998cfvk7kvyfcw0000gn/T/ipykernel_14505/1118710396.py:87: MatplotlibDeprecationWarning: The get_cmap function was deprecated in Matplotlib 3.7 and will be removed in 3.11. Use ``matplotlib.colormaps[name]`` or ``matplotlib.colormaps.get_cmap()`` or ``pyplot.get_cmap()`` instead.\n",
      "  cmap = plt.cm.get_cmap('tab20', np.max(labels) + 1)\n",
      "/var/folders/t5/yks90q315p998cfvk7kvyfcw0000gn/T/ipykernel_14505/1118710396.py:87: MatplotlibDeprecationWarning: The get_cmap function was deprecated in Matplotlib 3.7 and will be removed in 3.11. Use ``matplotlib.colormaps[name]`` or ``matplotlib.colormaps.get_cmap()`` or ``pyplot.get_cmap()`` instead.\n",
      "  cmap = plt.cm.get_cmap('tab20', np.max(labels) + 1)\n"
     ]
    },
    {
     "name": "stdout",
     "output_type": "stream",
     "text": [
      "Equitable: Modularity=-0.283, Silhouette=-0.021, Colours=4\n",
      "Distance-2: Modularity=-0.076, Silhouette=-0.140, Colours=15\n"
     ]
    },
    {
     "name": "stderr",
     "output_type": "stream",
     "text": [
      "/var/folders/t5/yks90q315p998cfvk7kvyfcw0000gn/T/ipykernel_14505/1118710396.py:87: MatplotlibDeprecationWarning: The get_cmap function was deprecated in Matplotlib 3.7 and will be removed in 3.11. Use ``matplotlib.colormaps[name]`` or ``matplotlib.colormaps.get_cmap()`` or ``pyplot.get_cmap()`` instead.\n",
      "  cmap = plt.cm.get_cmap('tab20', np.max(labels) + 1)\n",
      "/var/folders/t5/yks90q315p998cfvk7kvyfcw0000gn/T/ipykernel_14505/1118710396.py:87: MatplotlibDeprecationWarning: The get_cmap function was deprecated in Matplotlib 3.7 and will be removed in 3.11. Use ``matplotlib.colormaps[name]`` or ``matplotlib.colormaps.get_cmap()`` or ``pyplot.get_cmap()`` instead.\n",
      "  cmap = plt.cm.get_cmap('tab20', np.max(labels) + 1)\n"
     ]
    },
    {
     "name": "stdout",
     "output_type": "stream",
     "text": [
      "\n",
      "=== StochasticBlockModel Graph ===\n",
      "Greedy: Modularity=-0.301, Silhouette=-0.009, Colours=4\n",
      "DSATUR: Modularity=-0.304, Silhouette=-0.014, Colours=4\n"
     ]
    },
    {
     "name": "stderr",
     "output_type": "stream",
     "text": [
      "/var/folders/t5/yks90q315p998cfvk7kvyfcw0000gn/T/ipykernel_14505/1118710396.py:87: MatplotlibDeprecationWarning: The get_cmap function was deprecated in Matplotlib 3.7 and will be removed in 3.11. Use ``matplotlib.colormaps[name]`` or ``matplotlib.colormaps.get_cmap()`` or ``pyplot.get_cmap()`` instead.\n",
      "  cmap = plt.cm.get_cmap('tab20', np.max(labels) + 1)\n",
      "/var/folders/t5/yks90q315p998cfvk7kvyfcw0000gn/T/ipykernel_14505/1118710396.py:87: MatplotlibDeprecationWarning: The get_cmap function was deprecated in Matplotlib 3.7 and will be removed in 3.11. Use ``matplotlib.colormaps[name]`` or ``matplotlib.colormaps.get_cmap()`` or ``pyplot.get_cmap()`` instead.\n",
      "  cmap = plt.cm.get_cmap('tab20', np.max(labels) + 1)\n"
     ]
    },
    {
     "name": "stdout",
     "output_type": "stream",
     "text": [
      "Equitable: Modularity=-0.304, Silhouette=-0.014, Colours=4\n",
      "Distance-2: Modularity=-0.094, Silhouette=-0.177, Colours=13\n",
      "\n",
      "=== Barabasi-Albert Graph ===\n",
      "Greedy: Modularity=-0.259, Silhouette=-0.073, Colours=5\n"
     ]
    },
    {
     "name": "stderr",
     "output_type": "stream",
     "text": [
      "/var/folders/t5/yks90q315p998cfvk7kvyfcw0000gn/T/ipykernel_14505/1118710396.py:87: MatplotlibDeprecationWarning: The get_cmap function was deprecated in Matplotlib 3.7 and will be removed in 3.11. Use ``matplotlib.colormaps[name]`` or ``matplotlib.colormaps.get_cmap()`` or ``pyplot.get_cmap()`` instead.\n",
      "  cmap = plt.cm.get_cmap('tab20', np.max(labels) + 1)\n",
      "/var/folders/t5/yks90q315p998cfvk7kvyfcw0000gn/T/ipykernel_14505/1118710396.py:87: MatplotlibDeprecationWarning: The get_cmap function was deprecated in Matplotlib 3.7 and will be removed in 3.11. Use ``matplotlib.colormaps[name]`` or ``matplotlib.colormaps.get_cmap()`` or ``pyplot.get_cmap()`` instead.\n",
      "  cmap = plt.cm.get_cmap('tab20', np.max(labels) + 1)\n",
      "/var/folders/t5/yks90q315p998cfvk7kvyfcw0000gn/T/ipykernel_14505/1118710396.py:87: MatplotlibDeprecationWarning: The get_cmap function was deprecated in Matplotlib 3.7 and will be removed in 3.11. Use ``matplotlib.colormaps[name]`` or ``matplotlib.colormaps.get_cmap()`` or ``pyplot.get_cmap()`` instead.\n",
      "  cmap = plt.cm.get_cmap('tab20', np.max(labels) + 1)\n"
     ]
    },
    {
     "name": "stdout",
     "output_type": "stream",
     "text": [
      "DSATUR: Modularity=-0.265, Silhouette=-0.006, Colours=4\n",
      "Equitable: Modularity=-0.265, Silhouette=-0.006, Colours=4\n"
     ]
    },
    {
     "name": "stderr",
     "output_type": "stream",
     "text": [
      "/var/folders/t5/yks90q315p998cfvk7kvyfcw0000gn/T/ipykernel_14505/1118710396.py:87: MatplotlibDeprecationWarning: The get_cmap function was deprecated in Matplotlib 3.7 and will be removed in 3.11. Use ``matplotlib.colormaps[name]`` or ``matplotlib.colormaps.get_cmap()`` or ``pyplot.get_cmap()`` instead.\n",
      "  cmap = plt.cm.get_cmap('tab20', np.max(labels) + 1)\n",
      "/var/folders/t5/yks90q315p998cfvk7kvyfcw0000gn/T/ipykernel_14505/1118710396.py:87: MatplotlibDeprecationWarning: The get_cmap function was deprecated in Matplotlib 3.7 and will be removed in 3.11. Use ``matplotlib.colormaps[name]`` or ``matplotlib.colormaps.get_cmap()`` or ``pyplot.get_cmap()`` instead.\n",
      "  cmap = plt.cm.get_cmap('tab20', np.max(labels) + 1)\n"
     ]
    },
    {
     "name": "stdout",
     "output_type": "stream",
     "text": [
      "Distance-2: Modularity=-0.053, Silhouette=-0.228, Colours=25\n",
      "\n",
      "=== Bipartite Graph ===\n",
      "Greedy: Modularity=-0.500, Silhouette=0.073, Colours=2\n"
     ]
    },
    {
     "name": "stderr",
     "output_type": "stream",
     "text": [
      "/var/folders/t5/yks90q315p998cfvk7kvyfcw0000gn/T/ipykernel_14505/1118710396.py:87: MatplotlibDeprecationWarning: The get_cmap function was deprecated in Matplotlib 3.7 and will be removed in 3.11. Use ``matplotlib.colormaps[name]`` or ``matplotlib.colormaps.get_cmap()`` or ``pyplot.get_cmap()`` instead.\n",
      "  cmap = plt.cm.get_cmap('tab20', np.max(labels) + 1)\n",
      "/var/folders/t5/yks90q315p998cfvk7kvyfcw0000gn/T/ipykernel_14505/1118710396.py:87: MatplotlibDeprecationWarning: The get_cmap function was deprecated in Matplotlib 3.7 and will be removed in 3.11. Use ``matplotlib.colormaps[name]`` or ``matplotlib.colormaps.get_cmap()`` or ``pyplot.get_cmap()`` instead.\n",
      "  cmap = plt.cm.get_cmap('tab20', np.max(labels) + 1)\n",
      "/var/folders/t5/yks90q315p998cfvk7kvyfcw0000gn/T/ipykernel_14505/1118710396.py:87: MatplotlibDeprecationWarning: The get_cmap function was deprecated in Matplotlib 3.7 and will be removed in 3.11. Use ``matplotlib.colormaps[name]`` or ``matplotlib.colormaps.get_cmap()`` or ``pyplot.get_cmap()`` instead.\n",
      "  cmap = plt.cm.get_cmap('tab20', np.max(labels) + 1)\n"
     ]
    },
    {
     "name": "stdout",
     "output_type": "stream",
     "text": [
      "DSATUR: Modularity=-0.500, Silhouette=0.073, Colours=2\n",
      "Equitable: Modularity=-0.500, Silhouette=0.073, Colours=2\n",
      "Distance-2: Modularity=-0.124, Silhouette=-0.066, Colours=9\n"
     ]
    },
    {
     "name": "stderr",
     "output_type": "stream",
     "text": [
      "/var/folders/t5/yks90q315p998cfvk7kvyfcw0000gn/T/ipykernel_14505/1118710396.py:87: MatplotlibDeprecationWarning: The get_cmap function was deprecated in Matplotlib 3.7 and will be removed in 3.11. Use ``matplotlib.colormaps[name]`` or ``matplotlib.colormaps.get_cmap()`` or ``pyplot.get_cmap()`` instead.\n",
      "  cmap = plt.cm.get_cmap('tab20', np.max(labels) + 1)\n",
      "/var/folders/t5/yks90q315p998cfvk7kvyfcw0000gn/T/ipykernel_14505/1118710396.py:87: MatplotlibDeprecationWarning: The get_cmap function was deprecated in Matplotlib 3.7 and will be removed in 3.11. Use ``matplotlib.colormaps[name]`` or ``matplotlib.colormaps.get_cmap()`` or ``pyplot.get_cmap()`` instead.\n",
      "  cmap = plt.cm.get_cmap('tab20', np.max(labels) + 1)\n"
     ]
    }
   ],
   "source": [
    "import numpy as np\n",
    "import networkx as nx\n",
    "import matplotlib.pyplot as plt\n",
    "from sklearn.metrics import silhouette_score\n",
    "from networkx.algorithms.community.quality import modularity\n",
    "import warnings\n",
    "import os\n",
    "\n",
    "warnings.filterwarnings(\"ignore\", category=UserWarning)\n",
    "\n",
    "# ---------------------------\n",
    "# Graph Colouring Algorithms\n",
    "# ---------------------------\n",
    "\n",
    "def greedy_colour_cluster(G):\n",
    "    coloring = {}\n",
    "    for node in sorted(G.nodes(), key=lambda n: G.degree(n), reverse=True):\n",
    "        used = {coloring[nbr] for nbr in G.neighbors(node) if nbr in coloring}\n",
    "        color = 0\n",
    "        while color in used:\n",
    "            color += 1\n",
    "        coloring[node] = color\n",
    "    labels = np.array([coloring[node] for node in G.nodes()])\n",
    "    return labels, coloring\n",
    "\n",
    "def dsatur_colour_cluster(G):\n",
    "    sat_deg = {node: 0 for node in G.nodes()}\n",
    "    neighbor_colors = {node: set() for node in G.nodes()}\n",
    "    coloring = {}\n",
    "\n",
    "    first = max(G.nodes(), key=lambda n: G.degree(n))\n",
    "    coloring[first] = 0\n",
    "    for nbr in G.neighbors(first):\n",
    "        neighbor_colors[nbr].add(0)\n",
    "        sat_deg[nbr] = 1\n",
    "\n",
    "    uncolored = set(G.nodes()) - {first}\n",
    "    while uncolored:\n",
    "        u = max(uncolored, key=lambda n: (sat_deg[n], G.degree(n)))\n",
    "        used = neighbor_colors[u]\n",
    "        color = 0\n",
    "        while color in used:\n",
    "            color += 1\n",
    "        coloring[u] = color\n",
    "        uncolored.remove(u)\n",
    "        for nbr in G.neighbors(u):\n",
    "            if nbr in uncolored:\n",
    "                neighbor_colors[nbr].add(color)\n",
    "                sat_deg[nbr] = len(neighbor_colors[nbr])\n",
    "\n",
    "    labels = np.array([coloring[node] for node in G.nodes()])\n",
    "    return labels, coloring\n",
    "\n",
    "def equitable_colour_cluster(G):\n",
    "    labels, coloring = dsatur_colour_cluster(G)\n",
    "    return labels, coloring\n",
    "\n",
    "def distance_k_colour_cluster(G, k):\n",
    "    Gk = nx.power(G, k)\n",
    "    return greedy_colour_cluster(Gk)\n",
    "\n",
    "# ---------------------------\n",
    "# Evaluation Functions\n",
    "# ---------------------------\n",
    "\n",
    "def evaluate_clustering(G, labels):\n",
    "    communities = {}\n",
    "    for node, label in zip(G.nodes(), labels):\n",
    "        communities.setdefault(label, set()).add(node)\n",
    "    community_list = list(communities.values())\n",
    "    mod_score = modularity(G, community_list)\n",
    "    sil_score = -1\n",
    "    try:\n",
    "        adj_matrix = nx.to_numpy_array(G)\n",
    "        if len(set(labels)) > 1:\n",
    "            sil_score = silhouette_score(adj_matrix, labels, metric='euclidean')\n",
    "    except:\n",
    "        pass\n",
    "    return mod_score, sil_score, len(set(labels))\n",
    "\n",
    "# ---------------------------\n",
    "# Visualisation Function\n",
    "# ---------------------------\n",
    "\n",
    "def draw_coloured_graph(G, labels, title, save_path):\n",
    "    pos = nx.spring_layout(G, seed=42)\n",
    "    cmap = plt.cm.get_cmap('tab20', np.max(labels) + 1)\n",
    "    plt.figure(figsize=(8, 6))\n",
    "    nx.draw_networkx_nodes(G, pos, node_color=labels, cmap=cmap, node_size=50)\n",
    "    nx.draw_networkx_edges(G, pos, alpha=0.3)\n",
    "    plt.title(title)\n",
    "    plt.axis('off')\n",
    "    plt.tight_layout()\n",
    "    plt.savefig(save_path)\n",
    "    plt.close()\n",
    "\n",
    "# ---------------------------\n",
    "# Synthetic Graph Generation\n",
    "# ---------------------------\n",
    "\n",
    "def generate_bipartite_graph(n1, n2, p):\n",
    "    top = range(n1)\n",
    "    bottom = range(n1, n1 + n2)\n",
    "    edges = [(u, v) for u in top for v in bottom if np.random.rand() < p]\n",
    "    B = nx.Graph()\n",
    "    B.add_nodes_from(top, bipartite=0)\n",
    "    B.add_nodes_from(bottom, bipartite=1)\n",
    "    B.add_edges_from(edges)\n",
    "    return B\n",
    "\n",
    "def generate_synthetic_graphs():\n",
    "    graphs = {\n",
    "        \"Erdos-Renyi\": nx.erdos_renyi_graph(100, 0.05),\n",
    "        \"StochasticBlockModel\": nx.stochastic_block_model(\n",
    "            [30, 30, 40],\n",
    "            [[0.1, 0.02, 0.01], [0.02, 0.1, 0.02], [0.01, 0.02, 0.1]]\n",
    "        ),\n",
    "        \"Barabasi-Albert\": nx.barabasi_albert_graph(100, 3),\n",
    "        \"Bipartite\": generate_bipartite_graph(30, 30, 0.1)\n",
    "    }\n",
    "    return graphs\n",
    "\n",
    "# ---------------------------\n",
    "# Experiment Runner\n",
    "# ---------------------------\n",
    "\n",
    "def run_all_experiments():\n",
    "    graphs = generate_synthetic_graphs()\n",
    "    os.makedirs(\"output\", exist_ok=True)\n",
    "\n",
    "    for name, G in graphs.items():\n",
    "        print(f\"\\n=== {name} Graph ===\")\n",
    "        for method_name, method in {\n",
    "            \"Greedy\": greedy_colour_cluster,\n",
    "            \"DSATUR\": dsatur_colour_cluster,\n",
    "            \"Equitable\": equitable_colour_cluster,\n",
    "            \"Distance-2\": lambda g: distance_k_colour_cluster(g, 2)\n",
    "        }.items():\n",
    "            labels, _ = method(G)\n",
    "            mod, sil, chrom = evaluate_clustering(G, labels)\n",
    "            print(f\"{method_name}: Modularity={mod:.3f}, Silhouette={sil:.3f}, Colours={chrom}\")\n",
    "            title = f\"{name} - {method_name}\"\n",
    "            filename = f\"output/{name}_{method_name}.png\".replace(\" \", \"_\")\n",
    "            draw_coloured_graph(G, labels, title, filename)\n",
    "\n",
    "# ---------------------------\n",
    "# Main Execution\n",
    "# ---------------------------\n",
    "\n",
    "if __name__ == \"__main__\":\n",
    "    print(\"Running generalised graph colouring experiments with visualisations...\")\n",
    "    run_all_experiments()\n",
    "\n"
   ]
  }
 ],
 "metadata": {
  "kernelspec": {
   "display_name": "base",
   "language": "python",
   "name": "python3"
  },
  "language_info": {
   "codemirror_mode": {
    "name": "ipython",
    "version": 3
   },
   "file_extension": ".py",
   "mimetype": "text/x-python",
   "name": "python",
   "nbconvert_exporter": "python",
   "pygments_lexer": "ipython3",
   "version": "3.12.7"
  }
 },
 "nbformat": 4,
 "nbformat_minor": 2
}
